{
  "nbformat": 4,
  "nbformat_minor": 0,
  "metadata": {
    "colab": {
      "provenance": [],
      "include_colab_link": true
    },
    "kernelspec": {
      "name": "python3",
      "display_name": "Python 3"
    },
    "language_info": {
      "name": "python"
    }
  },
  "cells": [
    {
      "cell_type": "markdown",
      "metadata": {
        "id": "view-in-github",
        "colab_type": "text"
      },
      "source": [
        "<a href=\"https://colab.research.google.com/github/pearlescence-m/evolutionary-robotics/blob/master/Initial_ludobots.ipynb\" target=\"_parent\"><img src=\"https://colab.research.google.com/assets/colab-badge.svg\" alt=\"Open In Colab\"/></a>"
      ]
    },
    {
      "cell_type": "code",
      "execution_count": 1,
      "metadata": {
        "id": "zWLi8XLkQtYn",
        "colab": {
          "base_uri": "https://localhost:8080/"
        },
        "outputId": "79f3ca0a-a5b5-41e6-f7d8-24191c30a830"
      },
      "outputs": [
        {
          "output_type": "stream",
          "name": "stdout",
          "text": [
            "Collecting pybullet\n",
            "  Downloading pybullet-3.2.6-cp310-cp310-manylinux_2_17_x86_64.manylinux2014_x86_64.whl.metadata (1.8 kB)\n",
            "Downloading pybullet-3.2.6-cp310-cp310-manylinux_2_17_x86_64.manylinux2014_x86_64.whl (103.2 MB)\n",
            "\u001b[2K   \u001b[90m━━━━━━━━━━━━━━━━━━━━━━━━━━━━━━━━━━━━━━━━\u001b[0m \u001b[32m103.2/103.2 MB\u001b[0m \u001b[31m5.3 MB/s\u001b[0m eta \u001b[36m0:00:00\u001b[0m\n",
            "\u001b[?25hInstalling collected packages: pybullet\n",
            "Successfully installed pybullet-3.2.6\n",
            "Requirement already satisfied: imageio-ffmpeg in /usr/local/lib/python3.10/dist-packages (0.5.1)\n",
            "Requirement already satisfied: setuptools in /usr/local/lib/python3.10/dist-packages (from imageio-ffmpeg) (71.0.4)\n"
          ]
        }
      ],
      "source": [
        "!pip install pybullet\n",
        "!pip install imageio-ffmpeg"
      ]
    },
    {
      "cell_type": "code",
      "source": [
        "import numpy as np\n",
        "import pybullet as p\n",
        "import pybullet_data\n",
        "import imageio_ffmpeg\n",
        "from base64 import b64encode\n",
        "from IPython.display import HTML\n",
        "\n",
        "# camera parameters\n",
        "cam_target_pos = [.95, -0.2, 0.2]\n",
        "cam_distance = 2.05\n",
        "cam_yaw, cam_pitch, cam_roll = -50, -40, 0\n",
        "cam_width, cam_height = 480, 368\n",
        "cam_up, cam_up_axis_idx, cam_near_plane, cam_far_plane, cam_fov = [0, 0, 1], 2, 0.01, 100, 60\n",
        "\n",
        "# physics parameters.\n",
        "physicsClient = p.connect(p.DIRECT)\n",
        "p.setAdditionalSearchPath(pybullet_data.getDataPath())\n",
        "p.setGravity(0, 0, -10)\n",
        "plane_id = p.loadURDF(\"plane.urdf\")\n",
        "\n",
        "# Initialize video.\n",
        "vid = imageio_ffmpeg.write_frames('vid.mp4', (cam_width, cam_height), fps=30)\n",
        "vid.send(None) # The first frame of the video must be a null frame.\n",
        "\n",
        "# Simulate your world...\n",
        "for t in range(0,100):\n",
        "\n",
        "  # Create one image and add it to the video.\n",
        "  cam_view_matrix = p.computeViewMatrixFromYawPitchRoll(cam_target_pos, cam_distance, cam_yaw, cam_pitch, cam_roll, cam_up_axis_idx)\n",
        "  cam_projection_matrix = p.computeProjectionMatrixFOV(cam_fov, cam_width*1./cam_height, cam_near_plane, cam_far_plane)\n",
        "  image = p.getCameraImage(cam_width, cam_height,cam_view_matrix, cam_projection_matrix)[2][:, :, :3]\n",
        "  vid.send(np.ascontiguousarray(image))\n",
        "  cam_yaw = cam_yaw + 1\n",
        "\n",
        "  # Do physics stuff.\n",
        "  p.stepSimulation()\n",
        "\n",
        "# Shut down gracefully.\n",
        "vid.close()\n",
        "p.disconnect()"
      ],
      "metadata": {
        "id": "N2Xxp-u0Q9gY"
      },
      "execution_count": 6,
      "outputs": []
    },
    {
      "cell_type": "code",
      "source": [
        "# Display video.\n",
        "\n",
        "mp4 = open('vid.mp4', 'rb').read()\n",
        "data_url = \"data:video/mp4;base64,\" + b64encode(mp4).decode()\n",
        "HTML('<video width=480 controls><source src=\"%s\" type=\"video/mp4\"></video>' % data_url)"
      ],
      "metadata": {
        "id": "KlW1nl9GTaeZ"
      },
      "execution_count": null,
      "outputs": []
    },
    {
      "cell_type": "code",
      "source": [],
      "metadata": {
        "id": "Tbz510e2Hthx"
      },
      "execution_count": null,
      "outputs": []
    }
  ]
}